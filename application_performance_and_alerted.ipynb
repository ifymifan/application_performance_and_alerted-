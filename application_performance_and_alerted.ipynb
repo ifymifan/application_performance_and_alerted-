{
  "nbformat": 4,
  "nbformat_minor": 0,
  "metadata": {
    "colab": {
      "provenance": [],
      "authorship_tag": "ABX9TyMGSZkxpLbPYmHZK0fRLC+y",
      "include_colab_link": true
    },
    "kernelspec": {
      "name": "python3",
      "display_name": "Python 3"
    },
    "language_info": {
      "name": "python"
    }
  },
  "cells": [
    {
      "cell_type": "markdown",
      "metadata": {
        "id": "view-in-github",
        "colab_type": "text"
      },
      "source": [
        "<a href=\"https://colab.research.google.com/github/ifymifan/application_performance_and_alerted-/blob/main/application_performance_and_alerted.ipynb\" target=\"_parent\"><img src=\"https://colab.research.google.com/assets/colab-badge.svg\" alt=\"Open In Colab\"/></a>"
      ]
    },
    {
      "cell_type": "code",
      "execution_count": null,
      "metadata": {
        "colab": {
          "base_uri": "https://localhost:8080/"
        },
        "id": "E4_6smxfVWOO",
        "outputId": "3f63d207-e77f-4d12-f226-889d3bb22df3"
      },
      "outputs": [
        {
          "output_type": "stream",
          "name": "stdout",
          "text": [
            "Potential issues detected:\n",
            "- cpu_usage (89.10) exceeds threshold (80)\n",
            "Error sending email: (535, b'5.7.8 Username and Password not accepted. For more information, go to\\n5.7.8  https://support.google.com/mail/?p=BadCredentials 98e67ed59e1d1-2fceb05f715sm2465328a91.24 - gsmtp')\n",
            "Application performance within acceptable limits.\n",
            "Application performance within acceptable limits.\n",
            "Potential issues detected:\n",
            "- response_time (4.66) exceeds threshold (3.0)\n",
            "Error sending email: (535, b'5.7.8 Username and Password not accepted. For more information, go to\\n5.7.8  https://support.google.com/mail/?p=BadCredentials 98e67ed59e1d1-2fcb8449543sm4965022a91.0 - gsmtp')\n",
            "Application performance within acceptable limits.\n"
          ]
        }
      ],
      "source": [
        "import time\n",
        "import random\n",
        "import smtplib\n",
        "from email.mime.text import MIMEText\n",
        "\n",
        "# Simulated application performance metrics (replace with actual metrics)\n",
        "def get_application_metrics():\n",
        "    \"\"\"Simulates retrieving application performance metrics.\"\"\"\n",
        "    metrics = {\n",
        "        \"cpu_usage\": random.uniform(10, 90),\n",
        "        \"memory_usage\": random.uniform(20, 95),\n",
        "        \"response_time\": random.uniform(0.1, 5.0),\n",
        "        \"error_rate\": random.uniform(0, 0.1)\n",
        "    }\n",
        "    return metrics\n",
        "\n",
        "# Define thresholds for alerts\n",
        "thresholds = {\n",
        "    \"cpu_usage\": 80,\n",
        "    \"memory_usage\": 90,\n",
        "    \"response_time\": 3.0,\n",
        "    \"error_rate\": 0.05\n",
        "}\n",
        "\n",
        "# Function to check for potential issues\n",
        "def check_performance(metrics, thresholds):\n",
        "    \"\"\"Checks if metrics exceed defined thresholds.\"\"\"\n",
        "    alerts = []\n",
        "    for metric, value in metrics.items():\n",
        "        if metric in thresholds and value > thresholds[metric]:\n",
        "            alerts.append(f\"{metric} ({value:.2f}) exceeds threshold ({thresholds[metric]})\")\n",
        "    return alerts\n",
        "\n",
        "# Function to send email alerts\n",
        "def send_email_alert(alerts):\n",
        "    \"\"\"Sends email alerts to the team.\"\"\"\n",
        "    sender_email = \"ifymifan@gmail.com\"  # Replace with your email\n",
        "    sender_password = \"Ediokay2155\"  # Replace with your password or app password\n",
        "    receiver_email = \"ifeanyinwafor07@outlook.com\"  # Replace with team email\n",
        "\n",
        "    message = MIMEText(\"\\n\".join(alerts))\n",
        "    message[\"Subject\"] = \"Application Performance Alert\"\n",
        "    message[\"From\"] = sender_email\n",
        "    message[\"To\"] = receiver_email\n",
        "\n",
        "    try:\n",
        "        with smtplib.SMTP_SSL(\"smtp.gmail.com\", 465) as server:\n",
        "            server.login(sender_email, sender_password)\n",
        "            server.sendmail(sender_email, receiver_email, message.as_string())\n",
        "        print(\"Email alerts sent successfully!\")\n",
        "    except Exception as e:\n",
        "        print(f\"Error sending email: {e}\")\n",
        "\n",
        "# Main loop for monitoring\n",
        "def monitor_application():\n",
        "    \"\"\"Main function to monitor application performance.\"\"\"\n",
        "    while True:\n",
        "        metrics = get_application_metrics()\n",
        "        alerts = check_performance(metrics, thresholds)\n",
        "\n",
        "        if alerts:\n",
        "            print(\"Potential issues detected:\")\n",
        "            for alert in alerts:\n",
        "                print(f\"- {alert}\")\n",
        "            send_email_alert(alerts)\n",
        "        else:\n",
        "            print(\"Application performance within acceptable limits.\")\n",
        "\n",
        "        time.sleep(60)  # Check every 60 seconds (adjust as needed)\n",
        "\n",
        "if __name__ == \"__main__\":\n",
        "    monitor_application()"
      ]
    }
  ]
}